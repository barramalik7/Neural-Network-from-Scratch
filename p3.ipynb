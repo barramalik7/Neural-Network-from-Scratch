{
  "nbformat": 4,
  "nbformat_minor": 0,
  "metadata": {
    "colab": {
      "provenance": [],
      "authorship_tag": "ABX9TyMS60CxyneRtSRtzVb4P1In",
      "include_colab_link": true
    },
    "kernelspec": {
      "name": "python3",
      "display_name": "Python 3"
    },
    "language_info": {
      "name": "python"
    }
  },
  "cells": [
    {
      "cell_type": "markdown",
      "metadata": {
        "id": "view-in-github",
        "colab_type": "text"
      },
      "source": [
        "<a href=\"https://colab.research.google.com/github/barramalik7/Neural-Network-from-Scratch/blob/main/p3.ipynb\" target=\"_parent\"><img src=\"https://colab.research.google.com/assets/colab-badge.svg\" alt=\"Open In Colab\"/></a>"
      ]
    },
    {
      "cell_type": "markdown",
      "source": [
        "Library"
      ],
      "metadata": {
        "id": "kvVV7URsa_uY"
      }
    },
    {
      "cell_type": "code",
      "execution_count": 2,
      "metadata": {
        "id": "Z7A3gLipX6Jj"
      },
      "outputs": [],
      "source": [
        "import sys\n",
        "import numpy as np\n",
        "import matplotlib"
      ]
    },
    {
      "cell_type": "markdown",
      "source": [
        "P2"
      ],
      "metadata": {
        "id": "97S2VeYhbejS"
      }
    },
    {
      "cell_type": "code",
      "source": [
        "inputs = [1.0, 2.0, 3.0, 2.5]\n",
        "\n",
        "weights = [[0.2, 0.8, -0.5, 1.0],\n",
        "           [0.5, -0.91, 0.26, -0.5],\n",
        "           [-0.26, -0.27, 0.17, 0.87]]\n",
        "\n",
        "bias = [2.0, 3.0, 0.5]\n",
        "\n",
        "outputs = np.dot(weights, inputs) + bias\n",
        "print(outputs)"
      ],
      "metadata": {
        "id": "Ik2MLZxibCX-",
        "colab": {
          "base_uri": "https://localhost:8080/"
        },
        "outputId": "f7a29bb9-306a-41ab-e007-c3767cee344e"
      },
      "execution_count": 3,
      "outputs": [
        {
          "output_type": "stream",
          "name": "stdout",
          "text": [
            "[4.8   1.21  2.385]\n"
          ]
        }
      ]
    },
    {
      "cell_type": "code",
      "source": [
        "'''''\n",
        "layer_output = [] #output for current layer\n",
        "for neuron_weight, neuron_bias in zip(weights, biases):\n",
        "  neuron_output = 0 #output of given neuron\n",
        "  for n_input, weight in zip(inputs, neuron_weight):\n",
        "    neuron_output += n_input*weight\n",
        "  neuron_output += neuron_bias\n",
        "  layer_output.append(neuron_output)\n",
        "\n",
        "print(layer_output)\n",
        "''''''"
      ],
      "metadata": {
        "colab": {
          "base_uri": "https://localhost:8080/"
        },
        "id": "D-KyLYUQctNf",
        "outputId": "1cd7fc03-cea0-4006-f0ef-5aab4aee6e79"
      },
      "execution_count": null,
      "outputs": [
        {
          "output_type": "stream",
          "name": "stdout",
          "text": [
            "[4.8, 1.21, 2.385]\n"
          ]
        }
      ]
    },
    {
      "cell_type": "code",
      "source": [
        "''''\n",
        "some_value = 0.5\n",
        "weight = -0.7\n",
        "bias = 0.7\n",
        "\n",
        "print(some_value*weight)\n",
        "print(some_value+bias)\n",
        "''''"
      ],
      "metadata": {
        "colab": {
          "base_uri": "https://localhost:8080/"
        },
        "id": "KkVAgi59d9mQ",
        "outputId": "8a697cb4-1d8b-49b9-ddb1-36d20dbafe8a"
      },
      "execution_count": null,
      "outputs": [
        {
          "output_type": "stream",
          "name": "stdout",
          "text": [
            "-0.35\n",
            "1.2\n"
          ]
        }
      ]
    },
    {
      "cell_type": "code",
      "source": [],
      "metadata": {
        "id": "5MM7Xonw2Q0m"
      },
      "execution_count": null,
      "outputs": []
    }
  ]
}